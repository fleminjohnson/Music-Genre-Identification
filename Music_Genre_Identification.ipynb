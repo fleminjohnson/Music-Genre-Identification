{
  "cells": [
    {
      "cell_type": "markdown",
      "metadata": {
        "id": "view-in-github",
        "colab_type": "text"
      },
      "source": [
        "<a href=\"https://colab.research.google.com/github/fleminjohnson/Music-Genre-Identification/blob/main/Music_Genre_Identification.ipynb\" target=\"_parent\"><img src=\"https://colab.research.google.com/assets/colab-badge.svg\" alt=\"Open In Colab\"/></a>"
      ]
    },
    {
      "cell_type": "code",
      "execution_count": null,
      "metadata": {
        "colab": {
          "base_uri": "https://localhost:8080/"
        },
        "collapsed": true,
        "id": "dIbZWGrbqV7_",
        "outputId": "e1e80f55-6a3e-4568-ca41-81d3d2213517"
      },
      "outputs": [
        {
          "name": "stdout",
          "output_type": "stream",
          "text": [
            "--2025-03-27 05:20:39--  https://www.dropbox.com/s/4jw31k5mlzcmgis/genres.tar.gz?dl=0\n",
            "Resolving www.dropbox.com (www.dropbox.com)... 162.125.81.18, 2620:100:6031:18::a27d:5112\n",
            "Connecting to www.dropbox.com (www.dropbox.com)|162.125.81.18|:443... connected.\n",
            "HTTP request sent, awaiting response... 302 Found\n",
            "Location: https://www.dropbox.com/scl/fi/logv7hsjc1t3daaysuhyh/genres.tar.gz?rlkey=vcu3jvliyletkjwxz8bv8jm7c&dl=0 [following]\n",
            "--2025-03-27 05:20:39--  https://www.dropbox.com/scl/fi/logv7hsjc1t3daaysuhyh/genres.tar.gz?rlkey=vcu3jvliyletkjwxz8bv8jm7c&dl=0\n",
            "Reusing existing connection to www.dropbox.com:443.\n",
            "HTTP request sent, awaiting response... 302 Found\n",
            "Location: https://uc1faf246f2b97bf0759201f9db2.dl.dropboxusercontent.com/cd/0/inline/CmqiHKBguWpKf2XMc-Z77M0QrAtAwWun3r7Fl-DB3sUej2SHr-4wtH7iS0iQz-_nWKqQsA9S5hxEGtttOgmIFxIfm19y87CtQ6ZprMXMXk1SWARCXu_veyKXtjxtwIDg_mo/file# [following]\n",
            "--2025-03-27 05:20:40--  https://uc1faf246f2b97bf0759201f9db2.dl.dropboxusercontent.com/cd/0/inline/CmqiHKBguWpKf2XMc-Z77M0QrAtAwWun3r7Fl-DB3sUej2SHr-4wtH7iS0iQz-_nWKqQsA9S5hxEGtttOgmIFxIfm19y87CtQ6ZprMXMXk1SWARCXu_veyKXtjxtwIDg_mo/file\n",
            "Resolving uc1faf246f2b97bf0759201f9db2.dl.dropboxusercontent.com (uc1faf246f2b97bf0759201f9db2.dl.dropboxusercontent.com)... 162.125.81.15, 2620:100:6035:15::a27d:550f\n",
            "Connecting to uc1faf246f2b97bf0759201f9db2.dl.dropboxusercontent.com (uc1faf246f2b97bf0759201f9db2.dl.dropboxusercontent.com)|162.125.81.15|:443... connected.\n",
            "HTTP request sent, awaiting response... 302 Found\n",
            "Location: /cd/0/inline2/CmrEX3d5MyBhrNBNEyU-SyKUGiIv5a-dsmZ2HLdPk51rSpPUtij6amJDd7uBDO_6zM83c4a8ZBnuIWU6sCGktWIdWQ8sGyt6JTj-T8d5s92SElNB9xWH74GeGECVAoop7D7Pqfa9iiyeLSeATnZGwXmK9kCIRoiT5wsLfPo_vFmRwc-I6HP4ykI-vqR1nupzmELxu4i0FSyePnoVHP3cDOf1A8b7Bzb0We2zMu__AznScEpBWFbGLqLtpdcMDtU-B7Wfesolhs8OrfrhXGQmurOI82ijvPCnfOnVBm156BZ2ONGwBZ4pKMoocreW8gOfxG1dRBrEIJLdfkEVOiNlpk_3vLwvr0QHE0ldZgw9S2PHfw/file [following]\n",
            "--2025-03-27 05:20:40--  https://uc1faf246f2b97bf0759201f9db2.dl.dropboxusercontent.com/cd/0/inline2/CmrEX3d5MyBhrNBNEyU-SyKUGiIv5a-dsmZ2HLdPk51rSpPUtij6amJDd7uBDO_6zM83c4a8ZBnuIWU6sCGktWIdWQ8sGyt6JTj-T8d5s92SElNB9xWH74GeGECVAoop7D7Pqfa9iiyeLSeATnZGwXmK9kCIRoiT5wsLfPo_vFmRwc-I6HP4ykI-vqR1nupzmELxu4i0FSyePnoVHP3cDOf1A8b7Bzb0We2zMu__AznScEpBWFbGLqLtpdcMDtU-B7Wfesolhs8OrfrhXGQmurOI82ijvPCnfOnVBm156BZ2ONGwBZ4pKMoocreW8gOfxG1dRBrEIJLdfkEVOiNlpk_3vLwvr0QHE0ldZgw9S2PHfw/file\n",
            "Reusing existing connection to uc1faf246f2b97bf0759201f9db2.dl.dropboxusercontent.com:443.\n",
            "HTTP request sent, awaiting response... 200 OK\n",
            "Length: 1225573614 (1.1G) [application/octet-stream]\n",
            "Saving to: ‘genres.tar.gz’\n",
            "\n",
            "genres.tar.gz        87%[================>   ]   1020M  21.5MB/s    eta 8s     "
          ]
        }
      ],
      "source": [
        "!wget https://www.dropbox.com/s/4jw31k5mlzcmgis/genres.tar.gz?dl=0 -O genres.tar.gz\n",
        "!tar -xzvf genres.tar.gz"
      ]
    },
    {
      "cell_type": "code",
      "execution_count": 162,
      "metadata": {
        "id": "PF5duX6HxpVc"
      },
      "outputs": [],
      "source": [
        "import os\n",
        "import shutil\n",
        "import random"
      ]
    },
    {
      "cell_type": "code",
      "execution_count": null,
      "metadata": {
        "id": "e9oijTvUvcIL"
      },
      "outputs": [],
      "source": [
        "!rm /content/genres.tar.gz"
      ]
    },
    {
      "cell_type": "code",
      "execution_count": null,
      "metadata": {
        "id": "oCDnoTjL5nIQ"
      },
      "outputs": [],
      "source": [
        "#!rm -rf /content/augmented_genres"
      ]
    },
    {
      "cell_type": "code",
      "execution_count": null,
      "metadata": {
        "id": "VdR4cIEevf_y"
      },
      "outputs": [],
      "source": [
        "import pandas as pd\n",
        "import numpy as np"
      ]
    },
    {
      "cell_type": "code",
      "execution_count": null,
      "metadata": {
        "id": "NV_MY8spxIDI"
      },
      "outputs": [],
      "source": [
        "source_dir = '/content/genres'"
      ]
    },
    {
      "cell_type": "code",
      "execution_count": null,
      "metadata": {
        "id": "szKiaOm8v5EG"
      },
      "outputs": [],
      "source": [
        "target_dir = '/content/audio_data'"
      ]
    },
    {
      "cell_type": "code",
      "execution_count": null,
      "metadata": {
        "id": "EyhmLwlIxRne"
      },
      "outputs": [],
      "source": [
        "split_ratios = {\n",
        "    \"train\" : 0.8,\n",
        "    \"val\"   : 0.1,\n",
        "    \"test\"  : 0.1\n",
        "}"
      ]
    },
    {
      "cell_type": "code",
      "execution_count": null,
      "metadata": {
        "colab": {
          "background_save": true
        },
        "id": "5EeOh8wfxkD6"
      },
      "outputs": [],
      "source": [
        "os.mkdir(target_dir)"
      ]
    },
    {
      "cell_type": "code",
      "execution_count": null,
      "metadata": {
        "colab": {
          "background_save": true
        },
        "id": "kVUziNouyvS9"
      },
      "outputs": [],
      "source": [
        "random.seed(42)"
      ]
    },
    {
      "cell_type": "code",
      "execution_count": 163,
      "metadata": {
        "id": "gVq2WqlY-a56"
      },
      "outputs": [],
      "source": [
        "def extract_mfcc_sequence(file_path, sr=16000, n_mfcc=40, hop_length=512, segment_duration=2):\n",
        "    y, _ = librosa.load(file_path, sr=sr)\n",
        "    segment_samples = segment_duration * sr\n",
        "    num_segments = int(len(y) / segment_samples)\n",
        "\n",
        "    mfcc_sequence = []\n",
        "    for i in range(num_segments):\n",
        "        start = i * segment_samples\n",
        "        end = start + segment_samples\n",
        "        segment = y[start:end]\n",
        "\n",
        "        mfcc = librosa.feature.mfcc(y=segment, sr=sr, n_mfcc=n_mfcc, hop_length=hop_length)\n",
        "        mfcc_sequence.append(mfcc)  # No flattening here!\n",
        "\n",
        "    return np.array(mfcc_sequence)  # Shape: (segments, n_mfcc, time_steps)"
      ]
    },
    {
      "cell_type": "code",
      "execution_count": 164,
      "metadata": {
        "id": "U7fvdtvv-kwr"
      },
      "outputs": [],
      "source": [
        "def prepare_dataset(path, sr=16000, max_segments=15, n_mfcc=40, hop_length=512, segment_duration=2):\n",
        "    X, y = [], []\n",
        "    for genre in os.listdir(path):\n",
        "        genre_dir = os.path.join(path, genre)\n",
        "        if not os.path.isdir(genre_dir):\n",
        "            continue\n",
        "\n",
        "        for file in os.listdir(genre_dir):\n",
        "            file_path = os.path.join(genre_dir, file)\n",
        "            mfcc_seq = extract_mfcc_sequence(file_path, sr, n_mfcc, hop_length, segment_duration)\n",
        "\n",
        "            # Pad or truncate along the segments dimension\n",
        "            if len(mfcc_seq) < max_segments:\n",
        "                pad_width = max_segments - len(mfcc_seq)\n",
        "                mfcc_seq = np.pad(mfcc_seq, ((0, pad_width), (0,0), (0,0)), mode='constant')\n",
        "            elif len(mfcc_seq) > max_segments:\n",
        "                mfcc_seq = mfcc_seq[:max_segments]\n",
        "\n",
        "            X.append(mfcc_seq)\n",
        "            y.append(genre)\n",
        "\n",
        "    return np.array(X), np.array(y)"
      ]
    },
    {
      "cell_type": "code",
      "execution_count": 165,
      "metadata": {
        "id": "c6posm5Ly2hL"
      },
      "outputs": [],
      "source": [
        "def datagenerator():\n",
        "\n",
        "  for genre_name in os.listdir(source_dir):\n",
        "    genre_dir = os.path.join(source_dir,genre_name)\n",
        "\n",
        "    if not os.path.isdir(genre_dir):\n",
        "      continue\n",
        "\n",
        "    all_files = [f for f in os.listdir(genre_dir) if os.path.isfile(os.path.join(genre_dir, f))]\n",
        "\n",
        "    random.shuffle(all_files)\n",
        "\n",
        "    total_files = len(all_files)\n",
        "    train_end = int(total_files * split_ratios['train'])\n",
        "    val_end = train_end + int(total_files * split_ratios['test'])\n",
        "\n",
        "    train_files = all_files[:train_end]\n",
        "    val_files = all_files[train_end:val_end]\n",
        "    test_files = all_files[val_end:]\n",
        "\n",
        "    for split_names, file_list in [('train',train_files), ('val',val_files), ('test',test_files)]:\n",
        "      split_dir = os.path.join(target_dir, split_names, genre_name)\n",
        "      os.makedirs(split_dir, exist_ok=True)\n",
        "\n",
        "      for file_name in file_list:\n",
        "        src_path = os.path.join(genre_dir, file_name)\n",
        "        dst_path = os.path.join(split_dir, file_name)\n",
        "        shutil.copyfile(src_path, dst_path)\n",
        "\n",
        "  print('Data successfully split into train/val/test directories at', target_dir)\n"
      ]
    },
    {
      "cell_type": "code",
      "execution_count": 166,
      "metadata": {
        "id": "qHPYW56rlvEq"
      },
      "outputs": [],
      "source": [
        "import librosa\n",
        "\n",
        "def extract_mel_spectrogram(file_path, sample_rate=16000, n_fft=2048, hop_length=512, n_mels=128):\n",
        "\n",
        "  y,sr = librosa.load(file_path, sr=sample_rate)\n",
        "\n",
        "  mel_spectrogram = librosa.feature.melspectrogram(y=y, sr=sr, n_fft=n_fft, hop_length=hop_length, n_mels=n_mels)\n",
        "  mel_spectrogram_db = librosa.power_to_db(mel_spectrogram, ref=np.max)\n",
        "\n",
        "  return mel_spectrogram_db"
      ]
    },
    {
      "cell_type": "code",
      "execution_count": 167,
      "metadata": {
        "id": "VS1DZ7fpnkuZ"
      },
      "outputs": [],
      "source": [
        "def audio_feature_extraction(root_path, sample_rate=16000, n_fft=2048, hop_length=512, n_mels=128):\n",
        "    for genre in os.listdir(root_path):\n",
        "        genre_dir = os.path.join(root_path, genre)\n",
        "        if not os.path.isdir(genre_dir):\n",
        "            continue\n",
        "        for file_name in os.listdir(genre_dir):\n",
        "            # Rename inner variable to avoid shadowing 'root_path'\n",
        "            audio_file_path = os.path.join(genre_dir, file_name)\n",
        "            feature = extract_mel_spectrogram(audio_file_path, sample_rate, n_fft, hop_length, n_mels)\n",
        "            yield feature, genre\n"
      ]
    },
    {
      "cell_type": "code",
      "execution_count": 168,
      "metadata": {
        "id": "B-ud9xtWhtRW"
      },
      "outputs": [],
      "source": [
        "def pad_or_crop(spec, target_length = 930):\n",
        "\n",
        "  n_mels, time = spec.shape\n",
        "  if time < target_length:\n",
        "    pad_width = target_length - time\n",
        "    spec = np.pad(spec, pad_width=((0,0),(0,pad_width)), mode='constant')\n",
        "  elif time > target_length:\n",
        "    spec = spec[:, :target_length]\n",
        "\n",
        "  return spec"
      ]
    },
    {
      "cell_type": "code",
      "execution_count": 169,
      "metadata": {
        "id": "QWzQ7kgDV5dW"
      },
      "outputs": [],
      "source": [
        "import os\n",
        "import librosa\n",
        "import soundfile as sf\n",
        "import random\n",
        "import numpy as np\n",
        "\n",
        "def augment_audio_waveform(y, sr,\n",
        "                           pitch_range=(-2, 2),\n",
        "                           time_stretch_range=(0.8, 1.25),\n",
        "                           noise_factor=0.005):\n",
        "    \"\"\"\n",
        "    Randomly apply one or more audio augmentations to waveform y.\n",
        "    Returns an augmented waveform (same sr).\n",
        "    \"\"\"\n",
        "    # Random chance for pitch shift\n",
        "    if random.random() < 0.33:\n",
        "        n_steps = random.uniform(*pitch_range)\n",
        "        y = librosa.effects.pitch_shift(y=y, sr=sr, n_steps=n_steps)\n",
        "\n",
        "    # Random chance for time stretching\n",
        "    if random.random() < 0.33:\n",
        "        rate = random.uniform(*time_stretch_range)\n",
        "        y = librosa.effects.time_stretch(y=y, rate=rate)\n",
        "\n",
        "    # Random chance for additive noise\n",
        "    if random.random() < 0.33:\n",
        "        noise = np.random.randn(len(y))\n",
        "        y = y + noise_factor * noise\n",
        "\n",
        "    return y"
      ]
    },
    {
      "cell_type": "code",
      "execution_count": 170,
      "metadata": {
        "id": "ElftmBXxz4Ai"
      },
      "outputs": [],
      "source": [
        "def augment_dataset(original_dir, augmented_dir, sr=16000):\n",
        "    \"\"\"\n",
        "    For each WAV file under original_dir/<genre>/,\n",
        "    creates an augmented version and saves to augmented_dir/<genre>/.\n",
        "    \"\"\"\n",
        "    # Ensure the augmented_dir exists\n",
        "    os.makedirs(augmented_dir, exist_ok=True)\n",
        "\n",
        "    for genre_name in os.listdir(original_dir):\n",
        "        genre_dir = os.path.join(original_dir, genre_name)\n",
        "        if not os.path.isdir(genre_dir):\n",
        "            continue\n",
        "\n",
        "        # Create the matching subfolder in augmented_dir\n",
        "        augmented_genre_dir = os.path.join(augmented_dir, genre_name)\n",
        "        os.makedirs(augmented_genre_dir, exist_ok=True)\n",
        "\n",
        "        for file_name in os.listdir(genre_dir):\n",
        "\n",
        "            audio_file_path = os.path.join(genre_dir, file_name)\n",
        "\n",
        "            # 1) Load the original waveform\n",
        "            y, _ = librosa.load(audio_file_path, sr=sr)\n",
        "\n",
        "            # 2) Create an augmented waveform\n",
        "            y_aug = augment_audio_waveform(y, sr=sr)\n",
        "\n",
        "            # 3) Save the augmented waveform to the new folder\n",
        "            base_name, ext = os.path.splitext(file_name)\n",
        "            augmented_file_name = base_name + \"_aug.wav\"  # or .flac, etc.\n",
        "            augmented_file_path = os.path.join(augmented_genre_dir, augmented_file_name)\n",
        "\n",
        "            # Write with the same sample rate\n",
        "            sf.write(augmented_file_path, y_aug, sr)\n",
        "\n",
        "    print(f\"Augmented dataset created at {augmented_dir}\")"
      ]
    },
    {
      "cell_type": "code",
      "execution_count": 171,
      "metadata": {
        "id": "qfdcJ2Dzd7iI"
      },
      "outputs": [],
      "source": [
        "def feature_extraction(file_path, sample_rate = 16000):\n",
        "  features = []\n",
        "  labels = []\n",
        "\n",
        "  for spec, genre in audio_feature_extraction(file_path, sample_rate = sample_rate, hop_length = 200, n_mels = 64):\n",
        "    spec_fixed = pad_or_crop(spec)\n",
        "\n",
        "    features.append(spec_fixed)\n",
        "    labels.append(genre)\n",
        "\n",
        "\n",
        "  features = np.array(features)\n",
        "  features = np.expand_dims(features, axis=-1)  # Add channel dimension\n",
        "  labels = np.array(labels)\n",
        "  return features, labels"
      ]
    },
    {
      "cell_type": "code",
      "execution_count": 172,
      "metadata": {
        "id": "TCe0M8imnhcJ"
      },
      "outputs": [],
      "source": [
        "from sklearn.preprocessing import LabelEncoder\n",
        "from tensorflow.keras.utils import to_categorical\n",
        "\n",
        "def to_one_hot_encoded(labels):\n",
        "  # Encode text labels into integers\n",
        "  le = LabelEncoder()\n",
        "  labels_encoded = le.fit_transform(labels)\n",
        "\n",
        "  # Convert integer labels into one-hot encoded vectors\n",
        "  labels_categorical = to_categorical(labels_encoded)\n",
        "\n",
        "  return labels_categorical"
      ]
    },
    {
      "cell_type": "code",
      "execution_count": 173,
      "metadata": {
        "colab": {
          "base_uri": "https://localhost:8080/"
        },
        "id": "sHeASlC8EQvC",
        "outputId": "11b89306-cf2c-4d62-910a-289ba4d56a28"
      },
      "outputs": [
        {
          "output_type": "stream",
          "name": "stdout",
          "text": [
            "Data successfully split into train/val/test directories at /content/audio_data\n"
          ]
        }
      ],
      "source": [
        "datagenerator()"
      ]
    },
    {
      "cell_type": "code",
      "execution_count": 174,
      "metadata": {
        "id": "irF4oCyK6LCz"
      },
      "outputs": [],
      "source": [
        "import matplotlib.pyplot as plt"
      ]
    },
    {
      "cell_type": "code",
      "execution_count": 175,
      "metadata": {
        "id": "g_HtsSFlyy2p"
      },
      "outputs": [],
      "source": [
        "# train_dir = '/content/audio_data/train'\n",
        "\n",
        "# for feature, genre in audio_feature_extraction(train_dir):\n",
        "#   print(feature.shape)\n",
        "#   librosa.display.specshow(feature, sr=16000, x_axis='time', y_axis='mel')\n",
        "#   plt.colorbar(format = '%+2.0f dB')\n",
        "#   break"
      ]
    },
    {
      "cell_type": "code",
      "execution_count": 176,
      "metadata": {
        "colab": {
          "base_uri": "https://localhost:8080/"
        },
        "id": "WS5mRjptf4WW",
        "outputId": "d1b25d05-3ea0-4e57-d9b2-300901946056"
      },
      "outputs": [
        {
          "output_type": "execute_result",
          "data": {
            "text/plain": [
              "10"
            ]
          },
          "metadata": {},
          "execution_count": 176
        }
      ],
      "source": [
        "num_class = len([length for length in os.listdir('/content/genres')])\n",
        "num_class"
      ]
    },
    {
      "cell_type": "code",
      "execution_count": 177,
      "metadata": {
        "id": "tXfVSNt-YXo7"
      },
      "outputs": [],
      "source": [
        "# # Load audio file first\n",
        "# y, sr = librosa.load('/content/genres/blues/blues.00000.au', sr=25000)\n",
        "# y_aug = augment_audio_waveform(y, sr)\n",
        "\n",
        "# # Create output directory if it doesn't exist\n",
        "# os.makedirs('/content/augmented_genres/', exist_ok=True)\n",
        "\n",
        "# sf.write('/content/augmented_genres/blues_augmented.wav', y_aug, sr)"
      ]
    },
    {
      "cell_type": "code",
      "execution_count": 178,
      "metadata": {
        "id": "d2WeZCOLy3HL"
      },
      "outputs": [],
      "source": [
        "#!rm -rf /content/audio_data"
      ]
    },
    {
      "cell_type": "code",
      "execution_count": 179,
      "metadata": {
        "colab": {
          "base_uri": "https://localhost:8080/"
        },
        "id": "FOtAShYJlEFT",
        "outputId": "1e16c1ec-f4bf-4d50-da3d-bcbf343fd566"
      },
      "outputs": [
        {
          "output_type": "stream",
          "name": "stdout",
          "text": [
            "Augmented dataset created at /content/augmented_genres\n"
          ]
        }
      ],
      "source": [
        "augmented_dir = \"/content/augmented_genres\"\n",
        "\n",
        "augment_dataset('/content/audio_data/train', augmented_dir, sr=16000)"
      ]
    },
    {
      "cell_type": "code",
      "execution_count": 180,
      "metadata": {
        "id": "ij4rYqEr1-y6"
      },
      "outputs": [],
      "source": [
        "x_train_org, y_train_org = prepare_dataset('/content/audio_data/train',16000)"
      ]
    },
    {
      "cell_type": "code",
      "execution_count": 181,
      "metadata": {
        "colab": {
          "base_uri": "https://localhost:8080/"
        },
        "id": "4hJf9H7FKkEX",
        "outputId": "886f012d-132e-4d3a-e2de-b0af51f6c0d1"
      },
      "outputs": [
        {
          "output_type": "execute_result",
          "data": {
            "text/plain": [
              "(958, 15, 40, 63)"
            ]
          },
          "metadata": {},
          "execution_count": 181
        }
      ],
      "source": [
        "x_train_org.shape"
      ]
    },
    {
      "cell_type": "code",
      "execution_count": 182,
      "metadata": {
        "collapsed": true,
        "id": "-Q-5bqAtvOfH"
      },
      "outputs": [],
      "source": [
        "x_train, y_train = prepare_dataset('/content/augmented_genres',16000)\n",
        "x_test, y_test = prepare_dataset('/content/audio_data/test',16000)\n",
        "x_val, y_val = prepare_dataset('/content/audio_data/val',16000)"
      ]
    },
    {
      "cell_type": "code",
      "execution_count": 183,
      "metadata": {
        "id": "txyGCUF32ei6"
      },
      "outputs": [],
      "source": [
        "x_train = np.concatenate((x_train_org, x_train), axis=0)\n",
        "y_train = np.concatenate((y_train_org, y_train), axis=0)"
      ]
    },
    {
      "cell_type": "code",
      "source": [
        "x_train = x_train[..., np.newaxis]\n",
        "x_val   = x_val[..., np.newaxis]\n",
        "x_test  = x_test[..., np.newaxis]"
      ],
      "metadata": {
        "id": "FA_LCsvDPtVR"
      },
      "execution_count": 184,
      "outputs": []
    },
    {
      "cell_type": "code",
      "execution_count": 185,
      "metadata": {
        "id": "r7uSyy3SyFtH"
      },
      "outputs": [],
      "source": [
        "# After feature extraction\n",
        "train_mean = np.mean(x_train)\n",
        "train_std = np.std(x_train)\n",
        "\n",
        "x_train = (x_train - train_mean) / train_std\n",
        "x_val = (x_val - train_mean) / train_std\n",
        "x_test = (x_test - train_mean) / train_std"
      ]
    },
    {
      "cell_type": "code",
      "execution_count": 185,
      "metadata": {
        "id": "jwZXiswHJT-Z"
      },
      "outputs": [],
      "source": []
    },
    {
      "cell_type": "code",
      "execution_count": 186,
      "metadata": {
        "id": "IF8P2OFRqINz"
      },
      "outputs": [],
      "source": [
        "#features = features[..., np.newaxis]"
      ]
    },
    {
      "cell_type": "code",
      "execution_count": 187,
      "metadata": {
        "id": "Ipmn3ryVwTqv"
      },
      "outputs": [],
      "source": [
        "# Suppose you have raw labels for train, val, test in: y_train_raw, y_val_raw, y_test_raw\n",
        "from sklearn.preprocessing import LabelEncoder\n",
        "from tensorflow.keras.utils import to_categorical\n",
        "\n",
        "all_labels = np.concatenate([y_train, y_val, y_test])\n",
        "le = LabelEncoder()\n",
        "le.fit(all_labels)\n",
        "\n",
        "y_train_enc = le.transform(y_train)\n",
        "y_val_enc   = le.transform(y_val)\n",
        "y_test_enc  = le.transform(y_test)\n",
        "\n",
        "y_train = to_categorical(y_train_enc)\n",
        "y_val   = to_categorical(y_val_enc)\n",
        "y_test  = to_categorical(y_test_enc)\n"
      ]
    },
    {
      "cell_type": "code",
      "execution_count": 188,
      "metadata": {
        "id": "pL_tXVB-e1Gr"
      },
      "outputs": [],
      "source": [
        "from tensorflow.keras.models import Sequential\n",
        "from tensorflow.keras.layers import Conv2D, MaxPooling2D, Flatten, Dense, Dropout, GlobalAveragePooling2D, LSTM, Bidirectional,TimeDistributed\n",
        "from tensorflow.keras import regularizers\n",
        "from tensorflow.keras.layers import BatchNormalization  # New addition"
      ]
    },
    {
      "cell_type": "code",
      "execution_count": 189,
      "metadata": {
        "colab": {
          "base_uri": "https://localhost:8080/"
        },
        "id": "2aZhE-RjIOBY",
        "outputId": "0bc3d249-7e19-4ce3-8d6f-07be4cf3c19d"
      },
      "outputs": [
        {
          "output_type": "stream",
          "name": "stderr",
          "text": [
            "/usr/local/lib/python3.11/dist-packages/keras/src/layers/core/wrapper.py:27: UserWarning: Do not pass an `input_shape`/`input_dim` argument to a layer. When using Sequential models, prefer using an `Input(shape)` object as the first layer in the model instead.\n",
            "  super().__init__(**kwargs)\n"
          ]
        }
      ],
      "source": [
        "# model = Sequential([\n",
        "#     Conv2D(32, (3,3), activation='relu', input_shape=(64,930,1)),\n",
        "#     MaxPooling2D((2,2)),\n",
        "#     Flatten(),\n",
        "#     Dense(512, activation='relu', kernel_regularizer=regularizers.l2(0.001)),\n",
        "#     Dropout(0.6),\n",
        "#     Dense(num_class, activation='softmax')\n",
        "# ])\n",
        "\n",
        "\n",
        "model = Sequential([\n",
        "    TimeDistributed(Conv2D(32, (3,3), activation='relu'), input_shape=x_train.shape[1:]),\n",
        "    TimeDistributed(MaxPooling2D((2,2))),\n",
        "    TimeDistributed(Conv2D(64, (3,3), activation='relu')),\n",
        "    TimeDistributed(MaxPooling2D((2,2))),\n",
        "    TimeDistributed(GlobalAveragePooling2D()),  # reduces dimensionality without flattening\n",
        "    Bidirectional(LSTM(128, return_sequences=True)),\n",
        "    Dropout(0.5),\n",
        "    Bidirectional(LSTM(64)),\n",
        "    Dropout(0.5),\n",
        "    Dense(y_train.shape[1], activation='softmax')\n",
        "])"
      ]
    },
    {
      "cell_type": "code",
      "execution_count": 190,
      "metadata": {
        "colab": {
          "base_uri": "https://localhost:8080/"
        },
        "id": "FWW0JhyvpE1S",
        "outputId": "56c0a2a2-295c-413b-d72a-91bf054b52f7"
      },
      "outputs": [
        {
          "output_type": "execute_result",
          "data": {
            "text/plain": [
              "(187, 10)"
            ]
          },
          "metadata": {},
          "execution_count": 190
        }
      ],
      "source": [
        "y_val.shape"
      ]
    },
    {
      "cell_type": "code",
      "execution_count": 191,
      "metadata": {
        "id": "wBJzUuoxpp0v"
      },
      "outputs": [],
      "source": [
        "from tensorflow.keras.callbacks import ReduceLROnPlateau\n",
        "from tensorflow.keras.callbacks import EarlyStopping"
      ]
    },
    {
      "cell_type": "code",
      "execution_count": 192,
      "metadata": {
        "id": "wybEu_ifqYJI"
      },
      "outputs": [],
      "source": [
        "from tensorflow.keras.optimizers import Adam\n",
        "optimizer = Adam(learning_rate=0.001)"
      ]
    },
    {
      "cell_type": "code",
      "execution_count": 193,
      "metadata": {
        "id": "Drbskx5LhhkZ"
      },
      "outputs": [],
      "source": [
        "model.compile(optimizer= optimizer, loss='categorical_crossentropy', metrics=['accuracy'])"
      ]
    },
    {
      "cell_type": "code",
      "execution_count": 194,
      "metadata": {
        "colab": {
          "base_uri": "https://localhost:8080/",
          "height": 463
        },
        "id": "b-6F1ijthiO1",
        "outputId": "c4c24d3e-416e-4a5b-b5aa-2eb6d6dc62a2"
      },
      "outputs": [
        {
          "output_type": "display_data",
          "data": {
            "text/plain": [
              "\u001b[1mModel: \"sequential_12\"\u001b[0m\n"
            ],
            "text/html": [
              "<pre style=\"white-space:pre;overflow-x:auto;line-height:normal;font-family:Menlo,'DejaVu Sans Mono',consolas,'Courier New',monospace\"><span style=\"font-weight: bold\">Model: \"sequential_12\"</span>\n",
              "</pre>\n"
            ]
          },
          "metadata": {}
        },
        {
          "output_type": "display_data",
          "data": {
            "text/plain": [
              "┏━━━━━━━━━━━━━━━━━━━━━━━━━━━━━━━━━━━━━━┳━━━━━━━━━━━━━━━━━━━━━━━━━━━━━┳━━━━━━━━━━━━━━━━━┓\n",
              "┃\u001b[1m \u001b[0m\u001b[1mLayer (type)                        \u001b[0m\u001b[1m \u001b[0m┃\u001b[1m \u001b[0m\u001b[1mOutput Shape               \u001b[0m\u001b[1m \u001b[0m┃\u001b[1m \u001b[0m\u001b[1m        Param #\u001b[0m\u001b[1m \u001b[0m┃\n",
              "┡━━━━━━━━━━━━━━━━━━━━━━━━━━━━━━━━━━━━━━╇━━━━━━━━━━━━━━━━━━━━━━━━━━━━━╇━━━━━━━━━━━━━━━━━┩\n",
              "│ time_distributed (\u001b[38;5;33mTimeDistributed\u001b[0m)   │ (\u001b[38;5;45mNone\u001b[0m, \u001b[38;5;34m15\u001b[0m, \u001b[38;5;34m38\u001b[0m, \u001b[38;5;34m61\u001b[0m, \u001b[38;5;34m32\u001b[0m)      │             \u001b[38;5;34m320\u001b[0m │\n",
              "├──────────────────────────────────────┼─────────────────────────────┼─────────────────┤\n",
              "│ time_distributed_1 (\u001b[38;5;33mTimeDistributed\u001b[0m) │ (\u001b[38;5;45mNone\u001b[0m, \u001b[38;5;34m15\u001b[0m, \u001b[38;5;34m19\u001b[0m, \u001b[38;5;34m30\u001b[0m, \u001b[38;5;34m32\u001b[0m)      │               \u001b[38;5;34m0\u001b[0m │\n",
              "├──────────────────────────────────────┼─────────────────────────────┼─────────────────┤\n",
              "│ time_distributed_2 (\u001b[38;5;33mTimeDistributed\u001b[0m) │ (\u001b[38;5;45mNone\u001b[0m, \u001b[38;5;34m15\u001b[0m, \u001b[38;5;34m17\u001b[0m, \u001b[38;5;34m28\u001b[0m, \u001b[38;5;34m64\u001b[0m)      │          \u001b[38;5;34m18,496\u001b[0m │\n",
              "├──────────────────────────────────────┼─────────────────────────────┼─────────────────┤\n",
              "│ time_distributed_3 (\u001b[38;5;33mTimeDistributed\u001b[0m) │ (\u001b[38;5;45mNone\u001b[0m, \u001b[38;5;34m15\u001b[0m, \u001b[38;5;34m8\u001b[0m, \u001b[38;5;34m14\u001b[0m, \u001b[38;5;34m64\u001b[0m)       │               \u001b[38;5;34m0\u001b[0m │\n",
              "├──────────────────────────────────────┼─────────────────────────────┼─────────────────┤\n",
              "│ time_distributed_4 (\u001b[38;5;33mTimeDistributed\u001b[0m) │ (\u001b[38;5;45mNone\u001b[0m, \u001b[38;5;34m15\u001b[0m, \u001b[38;5;34m64\u001b[0m)              │               \u001b[38;5;34m0\u001b[0m │\n",
              "├──────────────────────────────────────┼─────────────────────────────┼─────────────────┤\n",
              "│ bidirectional_8 (\u001b[38;5;33mBidirectional\u001b[0m)      │ (\u001b[38;5;45mNone\u001b[0m, \u001b[38;5;34m15\u001b[0m, \u001b[38;5;34m256\u001b[0m)             │         \u001b[38;5;34m197,632\u001b[0m │\n",
              "├──────────────────────────────────────┼─────────────────────────────┼─────────────────┤\n",
              "│ dropout_23 (\u001b[38;5;33mDropout\u001b[0m)                 │ (\u001b[38;5;45mNone\u001b[0m, \u001b[38;5;34m15\u001b[0m, \u001b[38;5;34m256\u001b[0m)             │               \u001b[38;5;34m0\u001b[0m │\n",
              "├──────────────────────────────────────┼─────────────────────────────┼─────────────────┤\n",
              "│ bidirectional_9 (\u001b[38;5;33mBidirectional\u001b[0m)      │ (\u001b[38;5;45mNone\u001b[0m, \u001b[38;5;34m128\u001b[0m)                 │         \u001b[38;5;34m164,352\u001b[0m │\n",
              "├──────────────────────────────────────┼─────────────────────────────┼─────────────────┤\n",
              "│ dropout_24 (\u001b[38;5;33mDropout\u001b[0m)                 │ (\u001b[38;5;45mNone\u001b[0m, \u001b[38;5;34m128\u001b[0m)                 │               \u001b[38;5;34m0\u001b[0m │\n",
              "├──────────────────────────────────────┼─────────────────────────────┼─────────────────┤\n",
              "│ dense_12 (\u001b[38;5;33mDense\u001b[0m)                     │ (\u001b[38;5;45mNone\u001b[0m, \u001b[38;5;34m10\u001b[0m)                  │           \u001b[38;5;34m1,290\u001b[0m │\n",
              "└──────────────────────────────────────┴─────────────────────────────┴─────────────────┘\n"
            ],
            "text/html": [
              "<pre style=\"white-space:pre;overflow-x:auto;line-height:normal;font-family:Menlo,'DejaVu Sans Mono',consolas,'Courier New',monospace\">┏━━━━━━━━━━━━━━━━━━━━━━━━━━━━━━━━━━━━━━┳━━━━━━━━━━━━━━━━━━━━━━━━━━━━━┳━━━━━━━━━━━━━━━━━┓\n",
              "┃<span style=\"font-weight: bold\"> Layer (type)                         </span>┃<span style=\"font-weight: bold\"> Output Shape                </span>┃<span style=\"font-weight: bold\">         Param # </span>┃\n",
              "┡━━━━━━━━━━━━━━━━━━━━━━━━━━━━━━━━━━━━━━╇━━━━━━━━━━━━━━━━━━━━━━━━━━━━━╇━━━━━━━━━━━━━━━━━┩\n",
              "│ time_distributed (<span style=\"color: #0087ff; text-decoration-color: #0087ff\">TimeDistributed</span>)   │ (<span style=\"color: #00d7ff; text-decoration-color: #00d7ff\">None</span>, <span style=\"color: #00af00; text-decoration-color: #00af00\">15</span>, <span style=\"color: #00af00; text-decoration-color: #00af00\">38</span>, <span style=\"color: #00af00; text-decoration-color: #00af00\">61</span>, <span style=\"color: #00af00; text-decoration-color: #00af00\">32</span>)      │             <span style=\"color: #00af00; text-decoration-color: #00af00\">320</span> │\n",
              "├──────────────────────────────────────┼─────────────────────────────┼─────────────────┤\n",
              "│ time_distributed_1 (<span style=\"color: #0087ff; text-decoration-color: #0087ff\">TimeDistributed</span>) │ (<span style=\"color: #00d7ff; text-decoration-color: #00d7ff\">None</span>, <span style=\"color: #00af00; text-decoration-color: #00af00\">15</span>, <span style=\"color: #00af00; text-decoration-color: #00af00\">19</span>, <span style=\"color: #00af00; text-decoration-color: #00af00\">30</span>, <span style=\"color: #00af00; text-decoration-color: #00af00\">32</span>)      │               <span style=\"color: #00af00; text-decoration-color: #00af00\">0</span> │\n",
              "├──────────────────────────────────────┼─────────────────────────────┼─────────────────┤\n",
              "│ time_distributed_2 (<span style=\"color: #0087ff; text-decoration-color: #0087ff\">TimeDistributed</span>) │ (<span style=\"color: #00d7ff; text-decoration-color: #00d7ff\">None</span>, <span style=\"color: #00af00; text-decoration-color: #00af00\">15</span>, <span style=\"color: #00af00; text-decoration-color: #00af00\">17</span>, <span style=\"color: #00af00; text-decoration-color: #00af00\">28</span>, <span style=\"color: #00af00; text-decoration-color: #00af00\">64</span>)      │          <span style=\"color: #00af00; text-decoration-color: #00af00\">18,496</span> │\n",
              "├──────────────────────────────────────┼─────────────────────────────┼─────────────────┤\n",
              "│ time_distributed_3 (<span style=\"color: #0087ff; text-decoration-color: #0087ff\">TimeDistributed</span>) │ (<span style=\"color: #00d7ff; text-decoration-color: #00d7ff\">None</span>, <span style=\"color: #00af00; text-decoration-color: #00af00\">15</span>, <span style=\"color: #00af00; text-decoration-color: #00af00\">8</span>, <span style=\"color: #00af00; text-decoration-color: #00af00\">14</span>, <span style=\"color: #00af00; text-decoration-color: #00af00\">64</span>)       │               <span style=\"color: #00af00; text-decoration-color: #00af00\">0</span> │\n",
              "├──────────────────────────────────────┼─────────────────────────────┼─────────────────┤\n",
              "│ time_distributed_4 (<span style=\"color: #0087ff; text-decoration-color: #0087ff\">TimeDistributed</span>) │ (<span style=\"color: #00d7ff; text-decoration-color: #00d7ff\">None</span>, <span style=\"color: #00af00; text-decoration-color: #00af00\">15</span>, <span style=\"color: #00af00; text-decoration-color: #00af00\">64</span>)              │               <span style=\"color: #00af00; text-decoration-color: #00af00\">0</span> │\n",
              "├──────────────────────────────────────┼─────────────────────────────┼─────────────────┤\n",
              "│ bidirectional_8 (<span style=\"color: #0087ff; text-decoration-color: #0087ff\">Bidirectional</span>)      │ (<span style=\"color: #00d7ff; text-decoration-color: #00d7ff\">None</span>, <span style=\"color: #00af00; text-decoration-color: #00af00\">15</span>, <span style=\"color: #00af00; text-decoration-color: #00af00\">256</span>)             │         <span style=\"color: #00af00; text-decoration-color: #00af00\">197,632</span> │\n",
              "├──────────────────────────────────────┼─────────────────────────────┼─────────────────┤\n",
              "│ dropout_23 (<span style=\"color: #0087ff; text-decoration-color: #0087ff\">Dropout</span>)                 │ (<span style=\"color: #00d7ff; text-decoration-color: #00d7ff\">None</span>, <span style=\"color: #00af00; text-decoration-color: #00af00\">15</span>, <span style=\"color: #00af00; text-decoration-color: #00af00\">256</span>)             │               <span style=\"color: #00af00; text-decoration-color: #00af00\">0</span> │\n",
              "├──────────────────────────────────────┼─────────────────────────────┼─────────────────┤\n",
              "│ bidirectional_9 (<span style=\"color: #0087ff; text-decoration-color: #0087ff\">Bidirectional</span>)      │ (<span style=\"color: #00d7ff; text-decoration-color: #00d7ff\">None</span>, <span style=\"color: #00af00; text-decoration-color: #00af00\">128</span>)                 │         <span style=\"color: #00af00; text-decoration-color: #00af00\">164,352</span> │\n",
              "├──────────────────────────────────────┼─────────────────────────────┼─────────────────┤\n",
              "│ dropout_24 (<span style=\"color: #0087ff; text-decoration-color: #0087ff\">Dropout</span>)                 │ (<span style=\"color: #00d7ff; text-decoration-color: #00d7ff\">None</span>, <span style=\"color: #00af00; text-decoration-color: #00af00\">128</span>)                 │               <span style=\"color: #00af00; text-decoration-color: #00af00\">0</span> │\n",
              "├──────────────────────────────────────┼─────────────────────────────┼─────────────────┤\n",
              "│ dense_12 (<span style=\"color: #0087ff; text-decoration-color: #0087ff\">Dense</span>)                     │ (<span style=\"color: #00d7ff; text-decoration-color: #00d7ff\">None</span>, <span style=\"color: #00af00; text-decoration-color: #00af00\">10</span>)                  │           <span style=\"color: #00af00; text-decoration-color: #00af00\">1,290</span> │\n",
              "└──────────────────────────────────────┴─────────────────────────────┴─────────────────┘\n",
              "</pre>\n"
            ]
          },
          "metadata": {}
        },
        {
          "output_type": "display_data",
          "data": {
            "text/plain": [
              "\u001b[1m Total params: \u001b[0m\u001b[38;5;34m382,090\u001b[0m (1.46 MB)\n"
            ],
            "text/html": [
              "<pre style=\"white-space:pre;overflow-x:auto;line-height:normal;font-family:Menlo,'DejaVu Sans Mono',consolas,'Courier New',monospace\"><span style=\"font-weight: bold\"> Total params: </span><span style=\"color: #00af00; text-decoration-color: #00af00\">382,090</span> (1.46 MB)\n",
              "</pre>\n"
            ]
          },
          "metadata": {}
        },
        {
          "output_type": "display_data",
          "data": {
            "text/plain": [
              "\u001b[1m Trainable params: \u001b[0m\u001b[38;5;34m382,090\u001b[0m (1.46 MB)\n"
            ],
            "text/html": [
              "<pre style=\"white-space:pre;overflow-x:auto;line-height:normal;font-family:Menlo,'DejaVu Sans Mono',consolas,'Courier New',monospace\"><span style=\"font-weight: bold\"> Trainable params: </span><span style=\"color: #00af00; text-decoration-color: #00af00\">382,090</span> (1.46 MB)\n",
              "</pre>\n"
            ]
          },
          "metadata": {}
        },
        {
          "output_type": "display_data",
          "data": {
            "text/plain": [
              "\u001b[1m Non-trainable params: \u001b[0m\u001b[38;5;34m0\u001b[0m (0.00 B)\n"
            ],
            "text/html": [
              "<pre style=\"white-space:pre;overflow-x:auto;line-height:normal;font-family:Menlo,'DejaVu Sans Mono',consolas,'Courier New',monospace\"><span style=\"font-weight: bold\"> Non-trainable params: </span><span style=\"color: #00af00; text-decoration-color: #00af00\">0</span> (0.00 B)\n",
              "</pre>\n"
            ]
          },
          "metadata": {}
        }
      ],
      "source": [
        "model.summary()"
      ]
    },
    {
      "cell_type": "code",
      "execution_count": 195,
      "metadata": {
        "id": "r9846tNNfTcN"
      },
      "outputs": [],
      "source": [
        "# Define EarlyStopping callback\n",
        "early_stopping = EarlyStopping(\n",
        "    monitor='val_loss',  # Monitor validation loss\n",
        "    patience=5,          # Stop after 5 epochs without improvement\n",
        "    restore_best_weights=True  # Restore model weights from the best epoch\n",
        ")\n",
        "\n",
        "reduce_lr = ReduceLROnPlateau(\n",
        "    monitor='val_loss',\n",
        "    factor=0.2,\n",
        "    patience=3,\n",
        "    min_lr=1e-6)"
      ]
    },
    {
      "cell_type": "code",
      "execution_count": 196,
      "metadata": {
        "colab": {
          "base_uri": "https://localhost:8080/"
        },
        "id": "e_IwdBL4njcg",
        "outputId": "a53600d2-20ee-4a35-dff7-37c392fa90b5"
      },
      "outputs": [
        {
          "output_type": "stream",
          "name": "stdout",
          "text": [
            "Epoch 1/500\n",
            "\u001b[1m120/120\u001b[0m \u001b[32m━━━━━━━━━━━━━━━━━━━━\u001b[0m\u001b[37m\u001b[0m \u001b[1m16s\u001b[0m 55ms/step - accuracy: 0.1470 - loss: 2.2156 - val_accuracy: 0.4011 - val_loss: 1.7553 - learning_rate: 0.0010\n",
            "Epoch 2/500\n",
            "\u001b[1m120/120\u001b[0m \u001b[32m━━━━━━━━━━━━━━━━━━━━\u001b[0m\u001b[37m\u001b[0m \u001b[1m5s\u001b[0m 42ms/step - accuracy: 0.3380 - loss: 1.7865 - val_accuracy: 0.4759 - val_loss: 1.5802 - learning_rate: 0.0010\n",
            "Epoch 3/500\n",
            "\u001b[1m120/120\u001b[0m \u001b[32m━━━━━━━━━━━━━━━━━━━━\u001b[0m\u001b[37m\u001b[0m \u001b[1m5s\u001b[0m 43ms/step - accuracy: 0.3759 - loss: 1.6834 - val_accuracy: 0.4813 - val_loss: 1.5086 - learning_rate: 0.0010\n",
            "Epoch 4/500\n",
            "\u001b[1m120/120\u001b[0m \u001b[32m━━━━━━━━━━━━━━━━━━━━\u001b[0m\u001b[37m\u001b[0m \u001b[1m5s\u001b[0m 42ms/step - accuracy: 0.4273 - loss: 1.5743 - val_accuracy: 0.4813 - val_loss: 1.4424 - learning_rate: 0.0010\n",
            "Epoch 5/500\n",
            "\u001b[1m120/120\u001b[0m \u001b[32m━━━━━━━━━━━━━━━━━━━━\u001b[0m\u001b[37m\u001b[0m \u001b[1m5s\u001b[0m 43ms/step - accuracy: 0.4358 - loss: 1.5455 - val_accuracy: 0.5561 - val_loss: 1.2848 - learning_rate: 0.0010\n",
            "Epoch 6/500\n",
            "\u001b[1m120/120\u001b[0m \u001b[32m━━━━━━━━━━━━━━━━━━━━\u001b[0m\u001b[37m\u001b[0m \u001b[1m5s\u001b[0m 42ms/step - accuracy: 0.4973 - loss: 1.3931 - val_accuracy: 0.5668 - val_loss: 1.3006 - learning_rate: 0.0010\n",
            "Epoch 7/500\n",
            "\u001b[1m120/120\u001b[0m \u001b[32m━━━━━━━━━━━━━━━━━━━━\u001b[0m\u001b[37m\u001b[0m \u001b[1m5s\u001b[0m 43ms/step - accuracy: 0.4832 - loss: 1.4259 - val_accuracy: 0.5882 - val_loss: 1.1618 - learning_rate: 0.0010\n",
            "Epoch 8/500\n",
            "\u001b[1m120/120\u001b[0m \u001b[32m━━━━━━━━━━━━━━━━━━━━\u001b[0m\u001b[37m\u001b[0m \u001b[1m5s\u001b[0m 42ms/step - accuracy: 0.5395 - loss: 1.3074 - val_accuracy: 0.6096 - val_loss: 1.2025 - learning_rate: 0.0010\n",
            "Epoch 9/500\n",
            "\u001b[1m120/120\u001b[0m \u001b[32m━━━━━━━━━━━━━━━━━━━━\u001b[0m\u001b[37m\u001b[0m \u001b[1m5s\u001b[0m 42ms/step - accuracy: 0.5547 - loss: 1.2373 - val_accuracy: 0.6310 - val_loss: 1.0717 - learning_rate: 0.0010\n",
            "Epoch 10/500\n",
            "\u001b[1m120/120\u001b[0m \u001b[32m━━━━━━━━━━━━━━━━━━━━\u001b[0m\u001b[37m\u001b[0m \u001b[1m5s\u001b[0m 42ms/step - accuracy: 0.5868 - loss: 1.1819 - val_accuracy: 0.5936 - val_loss: 1.1517 - learning_rate: 0.0010\n",
            "Epoch 11/500\n",
            "\u001b[1m120/120\u001b[0m \u001b[32m━━━━━━━━━━━━━━━━━━━━\u001b[0m\u001b[37m\u001b[0m \u001b[1m5s\u001b[0m 42ms/step - accuracy: 0.5646 - loss: 1.2396 - val_accuracy: 0.6150 - val_loss: 1.0339 - learning_rate: 0.0010\n",
            "Epoch 12/500\n",
            "\u001b[1m120/120\u001b[0m \u001b[32m━━━━━━━━━━━━━━━━━━━━\u001b[0m\u001b[37m\u001b[0m \u001b[1m5s\u001b[0m 43ms/step - accuracy: 0.6243 - loss: 1.1084 - val_accuracy: 0.6845 - val_loss: 0.9993 - learning_rate: 0.0010\n",
            "Epoch 13/500\n",
            "\u001b[1m120/120\u001b[0m \u001b[32m━━━━━━━━━━━━━━━━━━━━\u001b[0m\u001b[37m\u001b[0m \u001b[1m5s\u001b[0m 42ms/step - accuracy: 0.6187 - loss: 1.0900 - val_accuracy: 0.6631 - val_loss: 1.0129 - learning_rate: 0.0010\n",
            "Epoch 14/500\n",
            "\u001b[1m120/120\u001b[0m \u001b[32m━━━━━━━━━━━━━━━━━━━━\u001b[0m\u001b[37m\u001b[0m \u001b[1m5s\u001b[0m 42ms/step - accuracy: 0.6132 - loss: 1.0993 - val_accuracy: 0.6845 - val_loss: 0.9669 - learning_rate: 0.0010\n",
            "Epoch 15/500\n",
            "\u001b[1m120/120\u001b[0m \u001b[32m━━━━━━━━━━━━━━━━━━━━\u001b[0m\u001b[37m\u001b[0m \u001b[1m5s\u001b[0m 42ms/step - accuracy: 0.6184 - loss: 1.0683 - val_accuracy: 0.6791 - val_loss: 1.1064 - learning_rate: 0.0010\n",
            "Epoch 16/500\n",
            "\u001b[1m120/120\u001b[0m \u001b[32m━━━━━━━━━━━━━━━━━━━━\u001b[0m\u001b[37m\u001b[0m \u001b[1m5s\u001b[0m 42ms/step - accuracy: 0.6417 - loss: 1.0357 - val_accuracy: 0.7059 - val_loss: 0.9025 - learning_rate: 0.0010\n",
            "Epoch 17/500\n",
            "\u001b[1m120/120\u001b[0m \u001b[32m━━━━━━━━━━━━━━━━━━━━\u001b[0m\u001b[37m\u001b[0m \u001b[1m5s\u001b[0m 42ms/step - accuracy: 0.6430 - loss: 1.0330 - val_accuracy: 0.6631 - val_loss: 1.0136 - learning_rate: 0.0010\n",
            "Epoch 18/500\n",
            "\u001b[1m120/120\u001b[0m \u001b[32m━━━━━━━━━━━━━━━━━━━━\u001b[0m\u001b[37m\u001b[0m \u001b[1m5s\u001b[0m 42ms/step - accuracy: 0.6661 - loss: 0.9698 - val_accuracy: 0.6684 - val_loss: 1.0482 - learning_rate: 0.0010\n",
            "Epoch 19/500\n",
            "\u001b[1m120/120\u001b[0m \u001b[32m━━━━━━━━━━━━━━━━━━━━\u001b[0m\u001b[37m\u001b[0m \u001b[1m5s\u001b[0m 42ms/step - accuracy: 0.6282 - loss: 1.0339 - val_accuracy: 0.6684 - val_loss: 1.0324 - learning_rate: 0.0010\n",
            "Epoch 20/500\n",
            "\u001b[1m120/120\u001b[0m \u001b[32m━━━━━━━━━━━━━━━━━━━━\u001b[0m\u001b[37m\u001b[0m \u001b[1m5s\u001b[0m 42ms/step - accuracy: 0.6779 - loss: 0.8952 - val_accuracy: 0.7273 - val_loss: 0.8041 - learning_rate: 1.0000e-04\n",
            "Epoch 21/500\n",
            "\u001b[1m120/120\u001b[0m \u001b[32m━━━━━━━━━━━━━━━━━━━━\u001b[0m\u001b[37m\u001b[0m \u001b[1m5s\u001b[0m 42ms/step - accuracy: 0.7526 - loss: 0.7752 - val_accuracy: 0.7273 - val_loss: 0.7586 - learning_rate: 1.0000e-04\n",
            "Epoch 22/500\n",
            "\u001b[1m120/120\u001b[0m \u001b[32m━━━━━━━━━━━━━━━━━━━━\u001b[0m\u001b[37m\u001b[0m \u001b[1m5s\u001b[0m 42ms/step - accuracy: 0.7737 - loss: 0.7129 - val_accuracy: 0.7380 - val_loss: 0.7534 - learning_rate: 1.0000e-04\n",
            "Epoch 23/500\n",
            "\u001b[1m120/120\u001b[0m \u001b[32m━━━━━━━━━━━━━━━━━━━━\u001b[0m\u001b[37m\u001b[0m \u001b[1m5s\u001b[0m 42ms/step - accuracy: 0.7587 - loss: 0.7538 - val_accuracy: 0.7433 - val_loss: 0.7642 - learning_rate: 1.0000e-04\n",
            "Epoch 24/500\n",
            "\u001b[1m120/120\u001b[0m \u001b[32m━━━━━━━━━━━━━━━━━━━━\u001b[0m\u001b[37m\u001b[0m \u001b[1m5s\u001b[0m 42ms/step - accuracy: 0.7635 - loss: 0.7120 - val_accuracy: 0.7647 - val_loss: 0.7510 - learning_rate: 1.0000e-04\n",
            "Epoch 25/500\n",
            "\u001b[1m120/120\u001b[0m \u001b[32m━━━━━━━━━━━━━━━━━━━━\u001b[0m\u001b[37m\u001b[0m \u001b[1m5s\u001b[0m 42ms/step - accuracy: 0.7730 - loss: 0.6741 - val_accuracy: 0.7487 - val_loss: 0.7371 - learning_rate: 1.0000e-04\n",
            "Epoch 26/500\n",
            "\u001b[1m120/120\u001b[0m \u001b[32m━━━━━━━━━━━━━━━━━━━━\u001b[0m\u001b[37m\u001b[0m \u001b[1m5s\u001b[0m 42ms/step - accuracy: 0.7780 - loss: 0.6807 - val_accuracy: 0.7647 - val_loss: 0.7085 - learning_rate: 1.0000e-04\n",
            "Epoch 27/500\n",
            "\u001b[1m120/120\u001b[0m \u001b[32m━━━━━━━━━━━━━━━━━━━━\u001b[0m\u001b[37m\u001b[0m \u001b[1m5s\u001b[0m 42ms/step - accuracy: 0.7673 - loss: 0.6871 - val_accuracy: 0.7647 - val_loss: 0.7049 - learning_rate: 1.0000e-04\n",
            "Epoch 28/500\n",
            "\u001b[1m120/120\u001b[0m \u001b[32m━━━━━━━━━━━━━━━━━━━━\u001b[0m\u001b[37m\u001b[0m \u001b[1m5s\u001b[0m 42ms/step - accuracy: 0.7840 - loss: 0.6676 - val_accuracy: 0.7540 - val_loss: 0.7180 - learning_rate: 1.0000e-04\n",
            "Epoch 29/500\n",
            "\u001b[1m120/120\u001b[0m \u001b[32m━━━━━━━━━━━━━━━━━━━━\u001b[0m\u001b[37m\u001b[0m \u001b[1m5s\u001b[0m 42ms/step - accuracy: 0.7822 - loss: 0.6200 - val_accuracy: 0.7594 - val_loss: 0.7032 - learning_rate: 1.0000e-04\n",
            "Epoch 30/500\n",
            "\u001b[1m120/120\u001b[0m \u001b[32m━━━━━━━━━━━━━━━━━━━━\u001b[0m\u001b[37m\u001b[0m \u001b[1m5s\u001b[0m 42ms/step - accuracy: 0.7854 - loss: 0.6430 - val_accuracy: 0.7433 - val_loss: 0.7102 - learning_rate: 1.0000e-04\n",
            "Epoch 31/500\n",
            "\u001b[1m120/120\u001b[0m \u001b[32m━━━━━━━━━━━━━━━━━━━━\u001b[0m\u001b[37m\u001b[0m \u001b[1m5s\u001b[0m 42ms/step - accuracy: 0.8007 - loss: 0.6287 - val_accuracy: 0.7647 - val_loss: 0.6782 - learning_rate: 1.0000e-04\n",
            "Epoch 32/500\n",
            "\u001b[1m120/120\u001b[0m \u001b[32m━━━━━━━━━━━━━━━━━━━━\u001b[0m\u001b[37m\u001b[0m \u001b[1m5s\u001b[0m 42ms/step - accuracy: 0.7942 - loss: 0.6244 - val_accuracy: 0.7701 - val_loss: 0.6777 - learning_rate: 1.0000e-04\n",
            "Epoch 33/500\n",
            "\u001b[1m120/120\u001b[0m \u001b[32m━━━━━━━━━━━━━━━━━━━━\u001b[0m\u001b[37m\u001b[0m \u001b[1m5s\u001b[0m 42ms/step - accuracy: 0.7807 - loss: 0.6284 - val_accuracy: 0.7647 - val_loss: 0.6515 - learning_rate: 1.0000e-04\n",
            "Epoch 34/500\n",
            "\u001b[1m120/120\u001b[0m \u001b[32m━━━━━━━━━━━━━━━━━━━━\u001b[0m\u001b[37m\u001b[0m \u001b[1m5s\u001b[0m 42ms/step - accuracy: 0.8105 - loss: 0.5749 - val_accuracy: 0.7754 - val_loss: 0.6631 - learning_rate: 1.0000e-04\n",
            "Epoch 35/500\n",
            "\u001b[1m120/120\u001b[0m \u001b[32m━━━━━━━━━━━━━━━━━━━━\u001b[0m\u001b[37m\u001b[0m \u001b[1m5s\u001b[0m 42ms/step - accuracy: 0.8177 - loss: 0.5781 - val_accuracy: 0.7701 - val_loss: 0.6577 - learning_rate: 1.0000e-04\n",
            "Epoch 36/500\n",
            "\u001b[1m120/120\u001b[0m \u001b[32m━━━━━━━━━━━━━━━━━━━━\u001b[0m\u001b[37m\u001b[0m \u001b[1m5s\u001b[0m 42ms/step - accuracy: 0.7881 - loss: 0.5866 - val_accuracy: 0.7914 - val_loss: 0.6379 - learning_rate: 1.0000e-04\n",
            "Epoch 37/500\n",
            "\u001b[1m120/120\u001b[0m \u001b[32m━━━━━━━━━━━━━━━━━━━━\u001b[0m\u001b[37m\u001b[0m \u001b[1m5s\u001b[0m 42ms/step - accuracy: 0.7956 - loss: 0.6103 - val_accuracy: 0.7914 - val_loss: 0.6363 - learning_rate: 1.0000e-04\n",
            "Epoch 38/500\n",
            "\u001b[1m120/120\u001b[0m \u001b[32m━━━━━━━━━━━━━━━━━━━━\u001b[0m\u001b[37m\u001b[0m \u001b[1m5s\u001b[0m 42ms/step - accuracy: 0.8048 - loss: 0.5728 - val_accuracy: 0.8021 - val_loss: 0.6400 - learning_rate: 1.0000e-04\n",
            "Epoch 39/500\n",
            "\u001b[1m120/120\u001b[0m \u001b[32m━━━━━━━━━━━━━━━━━━━━\u001b[0m\u001b[37m\u001b[0m \u001b[1m5s\u001b[0m 42ms/step - accuracy: 0.8206 - loss: 0.5582 - val_accuracy: 0.7647 - val_loss: 0.6412 - learning_rate: 1.0000e-04\n",
            "Epoch 40/500\n",
            "\u001b[1m120/120\u001b[0m \u001b[32m━━━━━━━━━━━━━━━━━━━━\u001b[0m\u001b[37m\u001b[0m \u001b[1m5s\u001b[0m 42ms/step - accuracy: 0.8279 - loss: 0.5416 - val_accuracy: 0.7914 - val_loss: 0.6208 - learning_rate: 1.0000e-04\n",
            "Epoch 41/500\n",
            "\u001b[1m120/120\u001b[0m \u001b[32m━━━━━━━━━━━━━━━━━━━━\u001b[0m\u001b[37m\u001b[0m \u001b[1m5s\u001b[0m 42ms/step - accuracy: 0.8144 - loss: 0.5572 - val_accuracy: 0.8021 - val_loss: 0.6349 - learning_rate: 1.0000e-04\n",
            "Epoch 42/500\n",
            "\u001b[1m120/120\u001b[0m \u001b[32m━━━━━━━━━━━━━━━━━━━━\u001b[0m\u001b[37m\u001b[0m \u001b[1m5s\u001b[0m 42ms/step - accuracy: 0.8092 - loss: 0.5591 - val_accuracy: 0.7914 - val_loss: 0.6286 - learning_rate: 1.0000e-04\n",
            "Epoch 43/500\n",
            "\u001b[1m120/120\u001b[0m \u001b[32m━━━━━━━━━━━━━━━━━━━━\u001b[0m\u001b[37m\u001b[0m \u001b[1m5s\u001b[0m 42ms/step - accuracy: 0.8209 - loss: 0.5289 - val_accuracy: 0.8021 - val_loss: 0.6241 - learning_rate: 1.0000e-04\n",
            "Epoch 44/500\n",
            "\u001b[1m120/120\u001b[0m \u001b[32m━━━━━━━━━━━━━━━━━━━━\u001b[0m\u001b[37m\u001b[0m \u001b[1m5s\u001b[0m 42ms/step - accuracy: 0.8297 - loss: 0.5164 - val_accuracy: 0.7968 - val_loss: 0.6072 - learning_rate: 1.0000e-05\n",
            "Epoch 45/500\n",
            "\u001b[1m120/120\u001b[0m \u001b[32m━━━━━━━━━━━━━━━━━━━━\u001b[0m\u001b[37m\u001b[0m \u001b[1m5s\u001b[0m 43ms/step - accuracy: 0.8259 - loss: 0.5363 - val_accuracy: 0.7968 - val_loss: 0.6143 - learning_rate: 1.0000e-05\n",
            "Epoch 46/500\n",
            "\u001b[1m120/120\u001b[0m \u001b[32m━━━━━━━━━━━━━━━━━━━━\u001b[0m\u001b[37m\u001b[0m \u001b[1m5s\u001b[0m 42ms/step - accuracy: 0.8222 - loss: 0.5423 - val_accuracy: 0.7968 - val_loss: 0.6106 - learning_rate: 1.0000e-05\n",
            "Epoch 47/500\n",
            "\u001b[1m120/120\u001b[0m \u001b[32m━━━━━━━━━━━━━━━━━━━━\u001b[0m\u001b[37m\u001b[0m \u001b[1m5s\u001b[0m 42ms/step - accuracy: 0.8374 - loss: 0.5119 - val_accuracy: 0.7968 - val_loss: 0.6060 - learning_rate: 1.0000e-05\n",
            "Epoch 48/500\n",
            "\u001b[1m120/120\u001b[0m \u001b[32m━━━━━━━━━━━━━━━━━━━━\u001b[0m\u001b[37m\u001b[0m \u001b[1m5s\u001b[0m 42ms/step - accuracy: 0.8211 - loss: 0.5364 - val_accuracy: 0.8021 - val_loss: 0.6053 - learning_rate: 1.0000e-05\n",
            "Epoch 49/500\n",
            "\u001b[1m120/120\u001b[0m \u001b[32m━━━━━━━━━━━━━━━━━━━━\u001b[0m\u001b[37m\u001b[0m \u001b[1m5s\u001b[0m 42ms/step - accuracy: 0.8234 - loss: 0.5295 - val_accuracy: 0.8075 - val_loss: 0.6036 - learning_rate: 1.0000e-05\n",
            "Epoch 50/500\n",
            "\u001b[1m120/120\u001b[0m \u001b[32m━━━━━━━━━━━━━━━━━━━━\u001b[0m\u001b[37m\u001b[0m \u001b[1m5s\u001b[0m 42ms/step - accuracy: 0.8244 - loss: 0.5215 - val_accuracy: 0.7968 - val_loss: 0.6022 - learning_rate: 1.0000e-05\n",
            "Epoch 51/500\n",
            "\u001b[1m120/120\u001b[0m \u001b[32m━━━━━━━━━━━━━━━━━━━━\u001b[0m\u001b[37m\u001b[0m \u001b[1m5s\u001b[0m 42ms/step - accuracy: 0.8317 - loss: 0.5080 - val_accuracy: 0.8021 - val_loss: 0.6081 - learning_rate: 1.0000e-05\n",
            "Epoch 52/500\n",
            "\u001b[1m120/120\u001b[0m \u001b[32m━━━━━━━━━━━━━━━━━━━━\u001b[0m\u001b[37m\u001b[0m \u001b[1m5s\u001b[0m 43ms/step - accuracy: 0.8343 - loss: 0.4700 - val_accuracy: 0.8021 - val_loss: 0.6048 - learning_rate: 1.0000e-05\n",
            "Epoch 53/500\n",
            "\u001b[1m120/120\u001b[0m \u001b[32m━━━━━━━━━━━━━━━━━━━━\u001b[0m\u001b[37m\u001b[0m \u001b[1m5s\u001b[0m 42ms/step - accuracy: 0.8300 - loss: 0.5028 - val_accuracy: 0.8021 - val_loss: 0.6026 - learning_rate: 1.0000e-05\n",
            "Epoch 54/500\n",
            "\u001b[1m120/120\u001b[0m \u001b[32m━━━━━━━━━━━━━━━━━━━━\u001b[0m\u001b[37m\u001b[0m \u001b[1m5s\u001b[0m 42ms/step - accuracy: 0.8268 - loss: 0.5050 - val_accuracy: 0.8021 - val_loss: 0.6022 - learning_rate: 1.0000e-06\n",
            "Epoch 55/500\n",
            "\u001b[1m120/120\u001b[0m \u001b[32m━━━━━━━━━━━━━━━━━━━━\u001b[0m\u001b[37m\u001b[0m \u001b[1m5s\u001b[0m 42ms/step - accuracy: 0.8196 - loss: 0.4997 - val_accuracy: 0.7968 - val_loss: 0.6023 - learning_rate: 1.0000e-06\n",
            "Epoch 56/500\n",
            "\u001b[1m120/120\u001b[0m \u001b[32m━━━━━━━━━━━━━━━━━━━━\u001b[0m\u001b[37m\u001b[0m \u001b[1m5s\u001b[0m 42ms/step - accuracy: 0.8362 - loss: 0.4981 - val_accuracy: 0.7968 - val_loss: 0.6021 - learning_rate: 1.0000e-06\n",
            "Epoch 57/500\n",
            "\u001b[1m120/120\u001b[0m \u001b[32m━━━━━━━━━━━━━━━━━━━━\u001b[0m\u001b[37m\u001b[0m \u001b[1m5s\u001b[0m 42ms/step - accuracy: 0.8377 - loss: 0.4809 - val_accuracy: 0.7914 - val_loss: 0.6028 - learning_rate: 1.0000e-06\n",
            "Epoch 58/500\n",
            "\u001b[1m120/120\u001b[0m \u001b[32m━━━━━━━━━━━━━━━━━━━━\u001b[0m\u001b[37m\u001b[0m \u001b[1m5s\u001b[0m 42ms/step - accuracy: 0.8530 - loss: 0.4822 - val_accuracy: 0.7968 - val_loss: 0.6037 - learning_rate: 1.0000e-06\n",
            "Epoch 59/500\n",
            "\u001b[1m120/120\u001b[0m \u001b[32m━━━━━━━━━━━━━━━━━━━━\u001b[0m\u001b[37m\u001b[0m \u001b[1m5s\u001b[0m 42ms/step - accuracy: 0.8413 - loss: 0.4986 - val_accuracy: 0.7968 - val_loss: 0.6033 - learning_rate: 1.0000e-06\n",
            "Epoch 60/500\n",
            "\u001b[1m120/120\u001b[0m \u001b[32m━━━━━━━━━━━━━━━━━━━━\u001b[0m\u001b[37m\u001b[0m \u001b[1m5s\u001b[0m 42ms/step - accuracy: 0.8420 - loss: 0.4762 - val_accuracy: 0.7968 - val_loss: 0.6032 - learning_rate: 1.0000e-07\n",
            "Epoch 61/500\n",
            "\u001b[1m120/120\u001b[0m \u001b[32m━━━━━━━━━━━━━━━━━━━━\u001b[0m\u001b[37m\u001b[0m \u001b[1m5s\u001b[0m 42ms/step - accuracy: 0.8566 - loss: 0.4660 - val_accuracy: 0.7968 - val_loss: 0.6033 - learning_rate: 1.0000e-07\n",
            "Epoch 62/500\n",
            "\u001b[1m120/120\u001b[0m \u001b[32m━━━━━━━━━━━━━━━━━━━━\u001b[0m\u001b[37m\u001b[0m \u001b[1m5s\u001b[0m 42ms/step - accuracy: 0.8310 - loss: 0.5091 - val_accuracy: 0.7968 - val_loss: 0.6033 - learning_rate: 1.0000e-07\n",
            "Epoch 63/500\n",
            "\u001b[1m120/120\u001b[0m \u001b[32m━━━━━━━━━━━━━━━━━━━━\u001b[0m\u001b[37m\u001b[0m \u001b[1m5s\u001b[0m 42ms/step - accuracy: 0.8375 - loss: 0.4896 - val_accuracy: 0.7968 - val_loss: 0.6033 - learning_rate: 1.0000e-08\n",
            "Epoch 64/500\n",
            "\u001b[1m120/120\u001b[0m \u001b[32m━━━━━━━━━━━━━━━━━━━━\u001b[0m\u001b[37m\u001b[0m \u001b[1m5s\u001b[0m 42ms/step - accuracy: 0.8465 - loss: 0.5035 - val_accuracy: 0.7968 - val_loss: 0.6033 - learning_rate: 1.0000e-08\n",
            "Epoch 65/500\n",
            "\u001b[1m120/120\u001b[0m \u001b[32m━━━━━━━━━━━━━━━━━━━━\u001b[0m\u001b[37m\u001b[0m \u001b[1m5s\u001b[0m 42ms/step - accuracy: 0.8431 - loss: 0.4872 - val_accuracy: 0.7968 - val_loss: 0.6033 - learning_rate: 1.0000e-08\n",
            "Epoch 66/500\n",
            "\u001b[1m120/120\u001b[0m \u001b[32m━━━━━━━━━━━━━━━━━━━━\u001b[0m\u001b[37m\u001b[0m \u001b[1m5s\u001b[0m 42ms/step - accuracy: 0.8358 - loss: 0.4885 - val_accuracy: 0.7968 - val_loss: 0.6033 - learning_rate: 1.0000e-09\n"
          ]
        },
        {
          "output_type": "execute_result",
          "data": {
            "text/plain": [
              "<keras.src.callbacks.history.History at 0x7b1e7054bc10>"
            ]
          },
          "metadata": {},
          "execution_count": 196
        }
      ],
      "source": [
        "model.fit(\n",
        "    x_train,\n",
        "    y_train,\n",
        "    epochs=500,\n",
        "    batch_size=16,\n",
        "    validation_data=(x_val, y_val),\n",
        "    callbacks =\n",
        "    [\n",
        "      EarlyStopping(monitor='val_loss', patience=10),\n",
        "      ReduceLROnPlateau(monitor='val_loss', patience=3)\n",
        "    ]\n",
        ")"
      ]
    },
    {
      "cell_type": "code",
      "execution_count": 197,
      "metadata": {
        "colab": {
          "base_uri": "https://localhost:8080/"
        },
        "id": "rqhhbf11fi-_",
        "outputId": "ba5145a4-0822-4cd8-e651-c26217c5037d"
      },
      "outputs": [
        {
          "output_type": "stream",
          "name": "stdout",
          "text": [
            "\u001b[1m6/6\u001b[0m \u001b[32m━━━━━━━━━━━━━━━━━━━━\u001b[0m\u001b[37m\u001b[0m \u001b[1m0s\u001b[0m 19ms/step - accuracy: 0.8328 - loss: 0.6494\n",
            "Test Accuracy: 0.8289\n"
          ]
        }
      ],
      "source": [
        "test_loss, test_acc = model.evaluate(x_test, y_test)\n",
        "print(f\"Test Accuracy: {test_acc:.4f}\")"
      ]
    },
    {
      "cell_type": "code",
      "execution_count": 198,
      "metadata": {
        "colab": {
          "base_uri": "https://localhost:8080/"
        },
        "id": "SPlI2HWlDvYV",
        "outputId": "cd6eff06-78f5-4e97-c44d-e02d918d809a"
      },
      "outputs": [
        {
          "output_type": "stream",
          "name": "stdout",
          "text": [
            "\u001b[1m6/6\u001b[0m \u001b[32m━━━━━━━━━━━━━━━━━━━━\u001b[0m\u001b[37m\u001b[0m \u001b[1m0s\u001b[0m 15ms/step - accuracy: 0.8137 - loss: 0.6147\n",
            "Validation Test Accuracy: 0.7968\n"
          ]
        }
      ],
      "source": [
        "val_test_loss, val_test_acc = model.evaluate(x_val, y_val)\n",
        "print(f\"Validation Test Accuracy: {val_test_acc:.4f}\")"
      ]
    },
    {
      "cell_type": "code",
      "source": [
        "import seaborn as sns\n",
        "from sklearn.metrics import confusion_matrix  # Import confusion_matrix\n",
        "\n",
        "# Get model predictions\n",
        "y_pred_enc = model.predict(x_test).argmax(axis=1)  # Predictions as encoded labels\n",
        "y_true_enc = y_test_enc  # Use the existing encoded true labels\n",
        "\n",
        "# Calculate confusion matrix\n",
        "conf_matrix = confusion_matrix(y_true_enc, y_pred_enc)\n",
        "\n",
        "plt.figure(figsize=(10, 8))\n",
        "sns.heatmap(conf_matrix, annot=True, fmt='d', xticklabels=le.classes_, yticklabels=le.classes_)\n",
        "plt.xlabel('Predicted')\n",
        "plt.ylabel('Actual')\n",
        "plt.show()"
      ],
      "metadata": {
        "colab": {
          "base_uri": "https://localhost:8080/",
          "height": 714
        },
        "id": "nEYqaUtQVv48",
        "outputId": "ba59ed21-5024-438c-bd91-e78a1eb275a4"
      },
      "execution_count": 204,
      "outputs": [
        {
          "output_type": "stream",
          "name": "stdout",
          "text": [
            "\u001b[1m6/6\u001b[0m \u001b[32m━━━━━━━━━━━━━━━━━━━━\u001b[0m\u001b[37m\u001b[0m \u001b[1m2s\u001b[0m 194ms/step\n"
          ]
        },
        {
          "output_type": "display_data",
          "data": {
            "text/plain": [
              "<Figure size 1000x800 with 2 Axes>"
            ],
            "image/png": "[encoded data removed]"
          },
          "metadata": {}
        }
      ]
    },
    {
      "cell_type": "code",
      "source": [
        "model.save(\"genre_classification_model.keras\")"
      ],
      "metadata": {
        "id": "viOI_3vjWK1s"
      },
      "execution_count": 205,
      "outputs": []
    }
  ],
  "metadata": {
    "accelerator": "GPU",
    "colab": {
      "gpuType": "L4",
      "provenance": [],
      "authorship_tag": "ABX9TyPBrWjoLzvHQRFVkoetEeso",
      "include_colab_link": true
    },
    "kernelspec": {
      "display_name": "Python 3",
      "name": "python3"
    },
    "language_info": {
      "name": "python"
    }
  },
  "nbformat": 4,
  "nbformat_minor": 0
}